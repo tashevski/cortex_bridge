{
 "cells": [
  {
   "cell_type": "markdown",
   "metadata": {},
   "source": [
    "# Vector Context Integration Test\n",
    "This notebook demonstrates retrieving vector context (cue cards, adaptive prompts, and similar conversations) using the existing `EnhancedConversationDB` class."
   ]
  },
  {
   "cell_type": "code",
   "execution_count": null,
   "metadata": {},
   "outputs": [],
   "source": [
    "# Initialize the database\n",
    "from program_files.database.enhanced_conversation_db import EnhancedConversationDB\n",
    "db = EnhancedConversationDB()\n",
    "print(\"Database initialized. Total records:\", db.conversations.count())"
   ]
  },
  {
   "cell_type": "code",
   "execution_count": null,
   "metadata": {},
   "outputs": [],
   "source": [
    "# Helper: pretty-print JSON\n",
    "import json, pprint\n",
    "pp = pprint.PrettyPrinter(indent=2)"
   ]
  },
  {
   "cell_type": "code",
   "execution_count": null,
   "metadata": {},
   "outputs": [],
   "source": [
    "# Query the vector database for context related to a medical topic\n",
    "query = 'diabetes management'\n",
    "context = db.get_vector_context(query, top_k=3)\n",
    "if context:\n",
    "    print('Cue cards:', len(context.get('relevant_cue_cards', [])))\n",
    "    print('Adaptive prompts:', len(context.get('relevant_prompts', [])))\n",
    "    print('Similar conversations:', len(context.get('similar_conversations', [])))\n",
    "    pp.pprint(context)\n",
    "else:\n",
    "    print('No context found for query.')"
   ]
  },
  {
   "cell_type": "markdown",
   "metadata": {},
   "source": [
    "---\n",
    "Change the `query` string above to test other medical topics (e.g., `hypertension`, `blood pressure`, `medication`)."
   ]
  }
 ],
 "metadata": {
  "kernelspec": {
   "display_name": "emotion_env",
   "language": "python",
   "name": "python3"
  },
  "language_info": {
   "name": "python",
   "version": "3.11.13"
  }
 },
 "nbformat": 4,
 "nbformat_minor": 4
}
